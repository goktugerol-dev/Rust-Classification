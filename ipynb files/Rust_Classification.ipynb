{
  "nbformat": 4,
  "nbformat_minor": 0,
  "metadata": {
    "colab": {
      "name": "Rust Classification",
      "version": "0.3.2",
      "provenance": [],
      "collapsed_sections": [],
      "toc_visible": true
    },
    "kernelspec": {
      "name": "python3",
      "display_name": "Python 3"
    },
    "accelerator": "GPU"
  },
  "cells": [
    {
      "cell_type": "markdown",
      "metadata": {
        "colab_type": "text",
        "id": "n6ecAvsmQp1I"
      },
      "source": [
        "## To run this colab, press the \"Runtime\" button in the menu tab and then press the \"Run all\" button."
      ]
    },
    {
      "cell_type": "markdown",
      "metadata": {
        "colab_type": "text",
        "id": "77gENRVX40S7"
      },
      "source": [
        "##### Copyright 2019 The TensorFlow Authors."
      ]
    },
    {
      "cell_type": "code",
      "metadata": {
        "cellView": "both",
        "colab_type": "code",
        "id": "d8jyt37T42Vf",
        "colab": {}
      },
      "source": [
        "#@title Licensed under the Apache License, Version 2.0 (the \"License\");\n",
        "# you may not use this file except in compliance with the License.\n",
        "# You may obtain a copy of the License at\n",
        "#\n",
        "# https://www.apache.org/licenses/LICENSE-2.0\n",
        "#\n",
        "# Unless required by applicable law or agreed to in writing, software\n",
        "# distributed under the License is distributed on an \"AS IS\" BASIS,\n",
        "# WITHOUT WARRANTIES OR CONDITIONS OF ANY KIND, either express or implied.\n",
        "# See the License for the specific language governing permissions and\n",
        "# limitations under the License."
      ],
      "execution_count": 0,
      "outputs": []
    },
    {
      "cell_type": "code",
      "metadata": {
        "colab_type": "code",
        "id": "iBMcobPHdD8O",
        "outputId": "19b08ce6-af0a-4cec-e804-5cd51ee8eb13",
        "colab": {
          "base_uri": "https://localhost:8080/",
          "height": 34
        }
      },
      "source": [
        "# from __future__ import absolute_import, division, print_function, unicode_literals\n",
        "# !pip install tf-nightly-gpu-2.0-preview\n",
        "\n",
        "import tensorflow as tf\n",
        "import os\n",
        "import numpy as np\n",
        "import matplotlib.pyplot as plt\n",
        "print(tf.__version__)"
      ],
      "execution_count": 0,
      "outputs": [
        {
          "output_type": "stream",
          "text": [
            "1.14.0\n"
          ],
          "name": "stdout"
        }
      ]
    },
    {
      "cell_type": "markdown",
      "metadata": {
        "colab_type": "text",
        "id": "v77rlkCKW0IJ"
      },
      "source": [
        "## Setup Input Pipeline"
      ]
    },
    {
      "cell_type": "markdown",
      "metadata": {
        "colab_type": "text",
        "id": "j4QOy2uA3P_p"
      },
      "source": [
        "Download the Rust dataset from my drive\n"
      ]
    },
    {
      "cell_type": "code",
      "metadata": {
        "id": "kv8pXTzuRVYa",
        "colab_type": "code",
        "outputId": "732392d2-f7e3-42a3-abae-47cdab147617",
        "colab": {
          "base_uri": "https://localhost:8080/",
          "height": 901
        }
      },
      "source": [
        "from google.colab import drive\n",
        "drive.mount('/gdrive')\n",
        "%cd /gdrive"
      ],
      "execution_count": 0,
      "outputs": [
        {
          "output_type": "stream",
          "text": [
            "E0708 13:45:21.678500 140523192534912 ultratb.py:152] Internal Python error in the inspect module.\n",
            "Below is the traceback from this internal error.\n",
            "\n"
          ],
          "name": "stderr"
        },
        {
          "output_type": "stream",
          "text": [
            "Drive already mounted at /gdrive; to attempt to forcibly remount, call drive.mount(\"/gdrive\", force_remount=True).\n",
            "Traceback (most recent call last):\n",
            "  File \"/usr/local/lib/python3.6/dist-packages/IPython/core/interactiveshell.py\", line 2882, in run_code\n",
            "    exec(code_obj, self.user_global_ns, self.user_ns)\n",
            "  File \"<ipython-input-84-cd0a7580851e>\", line 3, in <module>\n",
            "    get_ipython().magic('cd /gdrive')\n",
            "  File \"/usr/local/lib/python3.6/dist-packages/IPython/core/interactiveshell.py\", line 2160, in magic\n",
            "    return self.run_line_magic(magic_name, magic_arg_s)\n",
            "  File \"/usr/local/lib/python3.6/dist-packages/IPython/core/interactiveshell.py\", line 2081, in run_line_magic\n",
            "    result = fn(*args,**kwargs)\n",
            "  File \"</usr/local/lib/python3.6/dist-packages/decorator.py:decorator-gen-91>\", line 2, in cd\n",
            "  File \"/usr/local/lib/python3.6/dist-packages/IPython/core/magic.py\", line 188, in <lambda>\n",
            "    call = lambda f, *a, **k: f(*a, **k)\n",
            "  File \"/usr/local/lib/python3.6/dist-packages/IPython/core/magics/osm.py\", line 288, in cd\n",
            "    oldcwd = py3compat.getcwd()\n",
            "OSError: [Errno 107] Transport endpoint is not connected\n",
            "\n",
            "During handling of the above exception, another exception occurred:\n",
            "\n",
            "Traceback (most recent call last):\n",
            "  File \"/usr/local/lib/python3.6/dist-packages/IPython/core/interactiveshell.py\", line 1823, in showtraceback\n",
            "    stb = value._render_traceback_()\n",
            "AttributeError: 'OSError' object has no attribute '_render_traceback_'\n",
            "\n",
            "During handling of the above exception, another exception occurred:\n",
            "\n",
            "Traceback (most recent call last):\n",
            "  File \"/usr/local/lib/python3.6/dist-packages/IPython/core/ultratb.py\", line 1132, in get_records\n",
            "    return _fixed_getinnerframes(etb, number_of_lines_of_context, tb_offset)\n",
            "  File \"/usr/local/lib/python3.6/dist-packages/IPython/core/ultratb.py\", line 313, in wrapped\n",
            "    return f(*args, **kwargs)\n",
            "  File \"/usr/local/lib/python3.6/dist-packages/IPython/core/ultratb.py\", line 358, in _fixed_getinnerframes\n",
            "    records = fix_frame_records_filenames(inspect.getinnerframes(etb, context))\n",
            "  File \"/usr/lib/python3.6/inspect.py\", line 1490, in getinnerframes\n",
            "    frameinfo = (tb.tb_frame,) + getframeinfo(tb, context)\n",
            "  File \"/usr/lib/python3.6/inspect.py\", line 1448, in getframeinfo\n",
            "    filename = getsourcefile(frame) or getfile(frame)\n",
            "  File \"/usr/lib/python3.6/inspect.py\", line 696, in getsourcefile\n",
            "    if getattr(getmodule(object, filename), '__loader__', None) is not None:\n",
            "  File \"/usr/lib/python3.6/inspect.py\", line 725, in getmodule\n",
            "    file = getabsfile(object, _filename)\n",
            "  File \"/usr/lib/python3.6/inspect.py\", line 709, in getabsfile\n",
            "    return os.path.normcase(os.path.abspath(_filename))\n",
            "  File \"/usr/lib/python3.6/posixpath.py\", line 383, in abspath\n",
            "    cwd = os.getcwd()\n",
            "OSError: [Errno 107] Transport endpoint is not connected\n"
          ],
          "name": "stdout"
        },
        {
          "output_type": "error",
          "ename": "OSError",
          "evalue": "ignored",
          "traceback": [
            "\u001b[0;31m---------------------------------------------------------------------------\u001b[0m"
          ]
        }
      ]
    },
    {
      "cell_type": "code",
      "metadata": {
        "id": "rfWUcoPoiYFc",
        "colab_type": "code",
        "colab": {}
      },
      "source": [
        "import os\n",
        "import zipfile\n",
        "from tensorflow.keras.optimizers import RMSprop\n",
        "from tensorflow.keras.preprocessing.image import ImageDataGenerator\n",
        "\n",
        "local_zip = '/gdrive/My Drive/rustimages/dataset.zip'\n",
        "zip_ref = zipfile.ZipFile(local_zip, 'r')\n",
        "zip_ref.extractall('/tmp')\n",
        "zip_ref.close()"
      ],
      "execution_count": 0,
      "outputs": []
    },
    {
      "cell_type": "code",
      "metadata": {
        "id": "wXfH2GFfWxhI",
        "colab_type": "code",
        "colab": {}
      },
      "source": [
        "local_zip = '/gdrive/My Drive/rustimages/testt.zip' \n",
        "zip_ref = zipfile.ZipFile(local_zip, 'r')\n",
        "zip_ref.extractall('/tmp2')\n",
        "zip_ref.close()"
      ],
      "execution_count": 0,
      "outputs": []
    },
    {
      "cell_type": "code",
      "metadata": {
        "id": "EoqZXCZNn25s",
        "colab_type": "code",
        "outputId": "13ca8db3-6dbe-45bb-8029-a1920a7ea865",
        "colab": {
          "base_uri": "https://localhost:8080/",
          "height": 50
        }
      },
      "source": [
        "TRAINING_DIR = \"/tmp/data/\"\n",
        "\n",
        "train_datagen = ImageDataGenerator(\n",
        "      rotation_range=20,\n",
        "      width_shift_range=0.2,\n",
        "      height_shift_range=0.2,\n",
        "      zoom_range=0.2,\n",
        "      horizontal_flip=True,\n",
        "      fill_mode='nearest',\n",
        "      validation_split = 0.3)\n",
        "\n",
        "\n",
        "\n",
        "train_generator = train_datagen.flow_from_directory(TRAINING_DIR,\n",
        "                                                    batch_size=60,\n",
        "                                                    class_mode='categorical',\n",
        "                                                    target_size=(224, 224),\n",
        "                                                    subset='training')\n",
        "\n",
        "\n",
        "validation_generator = train_datagen.flow_from_directory(TRAINING_DIR,\n",
        "                                                              batch_size=60,\n",
        "                                                              class_mode='categorical',\n",
        "                                                              target_size=(224, 224),\n",
        "                                                              subset='validation')\n"
      ],
      "execution_count": 0,
      "outputs": [
        {
          "output_type": "stream",
          "text": [
            "Found 3798 images belonging to 2 classes.\n",
            "Found 1627 images belonging to 2 classes.\n"
          ],
          "name": "stdout"
        }
      ]
    },
    {
      "cell_type": "markdown",
      "metadata": {
        "colab_type": "text",
        "id": "z4gTv7ig2vMh"
      },
      "source": [
        "Use `ImageDataGenerator` to rescale the images.\n",
        "\n",
        "Create the train generator and specify where the train dataset directory, image size, batch size.\n",
        "\n",
        "Create the validation generator with similar approach as the train generator with the flow_from_directory() method."
      ]
    },
    {
      "cell_type": "code",
      "metadata": {
        "colab_type": "code",
        "id": "tx1L7fxxWA_G",
        "outputId": "31cd9b33-4ab5-4006-c27e-0b8d49133b33",
        "colab": {
          "base_uri": "https://localhost:8080/",
          "height": 34
        }
      },
      "source": [
        "for image_batch, label_batch in train_generator:\n",
        "  break\n",
        "image_batch.shape, label_batch.shape"
      ],
      "execution_count": 0,
      "outputs": [
        {
          "output_type": "execute_result",
          "data": {
            "text/plain": [
              "((60, 224, 224, 3), (60, 2))"
            ]
          },
          "metadata": {
            "tags": []
          },
          "execution_count": 8
        }
      ]
    },
    {
      "cell_type": "markdown",
      "metadata": {
        "colab_type": "text",
        "id": "ZrFFcwUb3iK9"
      },
      "source": [
        "Save the labels in a file which will be downloaded later."
      ]
    },
    {
      "cell_type": "code",
      "metadata": {
        "colab_type": "code",
        "id": "-QFZIhWs4dsq",
        "outputId": "3a113843-fa4f-41bf-f315-c3b45c170e78",
        "colab": {
          "base_uri": "https://localhost:8080/",
          "height": 50
        }
      },
      "source": [
        "print (train_generator.class_indices)\n",
        "\n",
        "labels = '\\n'.join(sorted(train_generator.class_indices.keys()))\n",
        "\n",
        "labels"
      ],
      "execution_count": 0,
      "outputs": [
        {
          "output_type": "stream",
          "text": [
            "{'notRust': 0, 'rust': 1}\n"
          ],
          "name": "stdout"
        },
        {
          "output_type": "execute_result",
          "data": {
            "text/plain": [
              "'notRust\\nrust'"
            ]
          },
          "metadata": {
            "tags": []
          },
          "execution_count": 9
        }
      ]
    },
    {
      "cell_type": "markdown",
      "metadata": {
        "id": "DXBRzMewoq6R",
        "colab_type": "text"
      },
      "source": [
        ""
      ]
    },
    {
      "cell_type": "code",
      "metadata": {
        "colab_type": "code",
        "id": "duxD_UDSOmng",
        "outputId": "2ca0fbc5-e0b6-4dd2-ea98-cda0bf9cf819",
        "colab": {
          "base_uri": "https://localhost:8080/",
          "height": 34
        }
      },
      "source": [
        "!cat labels.txt"
      ],
      "execution_count": 0,
      "outputs": [
        {
          "output_type": "stream",
          "text": [
            "cat: labels.txt: No such file or directory\n"
          ],
          "name": "stdout"
        }
      ]
    },
    {
      "cell_type": "markdown",
      "metadata": {
        "colab_type": "text",
        "id": "OkH-kazQecHB"
      },
      "source": [
        "## Create the base model from the pre-trained convnets\n",
        "\n",
        "Create the base model from the **VGG19**  \n",
        "\n",
        "VGG-19 is a convolutional neural network that is trained on more than a million images from the ImageNet database. The network is 19 layers deep and can classify images into 1000 object categories, such as keyboard, mouse, pencil, and many animals. As a result, the network has learned rich feature representations for a wide range of images. The network has an image input size of 224-by-224\n",
        "\n",
        "ImageNet dataset is a large dataset of 1.4M images and 1000 classes of web images.\n",
        "\n",
        "First, pick which intermediate layer will be used for feature extraction. A common practice is to use the output of the very last layer before the flatten operation, the so-called \"bottleneck layer\". The reasoning here is that the following fully-connected layers will be too specialized to the task the network was trained on, and thus the features learned by these layers won't be very useful for a new task. The bottleneck features, however, retain much generality.\n",
        "\n",
        "Let's instantiate a new model pre-loaded with weights trained on ImageNet. By specifying the `include_top=False` argument, we load a network that doesn't include the classification layers at the top, which is ideal for feature extraction."
      ]
    },
    {
      "cell_type": "code",
      "metadata": {
        "colab_type": "code",
        "id": "19IQ2gqneqmS",
        "outputId": "5c7f0ad1-f3e0-4f29-db3a-526d16bfbd2f",
        "colab": {
          "base_uri": "https://localhost:8080/",
          "height": 138
        }
      },
      "source": [
        "IMG_SHAPE = (224, 224, 3)\n",
        "\n",
        "# Create the base model from the pre-trained model VGG19\n",
        "base_model = tf.keras.applications.vgg19.VGG19(input_shape=IMG_SHAPE,\n",
        "                                              include_top=False, \n",
        "                                              weights='imagenet')\n"
      ],
      "execution_count": 0,
      "outputs": [
        {
          "output_type": "stream",
          "text": [
            "WARNING: Logging before flag parsing goes to stderr.\n",
            "W0708 09:35:16.122951 140523192534912 deprecation.py:506] From /usr/local/lib/python3.6/dist-packages/tensorflow/python/ops/init_ops.py:1251: calling VarianceScaling.__init__ (from tensorflow.python.ops.init_ops) with dtype is deprecated and will be removed in a future version.\n",
            "Instructions for updating:\n",
            "Call initializer instance with the dtype argument instead of passing it to the constructor\n"
          ],
          "name": "stderr"
        },
        {
          "output_type": "stream",
          "text": [
            "Downloading data from https://github.com/fchollet/deep-learning-models/releases/download/v0.1/vgg19_weights_tf_dim_ordering_tf_kernels_notop.h5\n",
            "80142336/80134624 [==============================] - 7s 0us/step\n"
          ],
          "name": "stdout"
        }
      ]
    },
    {
      "cell_type": "markdown",
      "metadata": {
        "colab_type": "text",
        "id": "rlx56nQtfe8Y"
      },
      "source": [
        "## Feature extraction\n",
        "You will freeze the convolutional base created from the previous step and use that as a feature extractor, add a classifier on top of it and train the top-level classifier."
      ]
    },
    {
      "cell_type": "code",
      "metadata": {
        "colab_type": "code",
        "id": "Tts8BbAtRGvk",
        "colab": {}
      },
      "source": [
        "base_model.trainable = False"
      ],
      "execution_count": 0,
      "outputs": []
    },
    {
      "cell_type": "markdown",
      "metadata": {
        "colab_type": "text",
        "id": "wdMRM8YModbk"
      },
      "source": [
        "### Add a classification head"
      ]
    },
    {
      "cell_type": "code",
      "metadata": {
        "colab_type": "code",
        "id": "eApvroIyn1K0",
        "colab": {}
      },
      "source": [
        "model = tf.keras.Sequential([\n",
        "  base_model,\n",
        "  tf.keras.layers.Conv2D(32, 3, activation='relu'),\n",
        "  tf.keras.layers.Dropout(0.2),\n",
        "  tf.keras.layers.GlobalAveragePooling2D(),\n",
        "  tf.keras.layers.Dense(2, activation='softmax')\n",
        "])"
      ],
      "execution_count": 0,
      "outputs": []
    },
    {
      "cell_type": "markdown",
      "metadata": {
        "colab_type": "text",
        "id": "g0ylJXE_kRLi"
      },
      "source": [
        "### Compile the model\n",
        "\n",
        "You must compile the model before training it.  Since there are two classes, use a binary cross-entropy loss."
      ]
    },
    {
      "cell_type": "code",
      "metadata": {
        "colab_type": "code",
        "id": "RpR8HdyMhukJ",
        "colab": {}
      },
      "source": [
        "model.compile(optimizer=tf.keras.optimizers.Adam(), \n",
        "              loss='categorical_crossentropy', \n",
        "              metrics=['accuracy'])"
      ],
      "execution_count": 0,
      "outputs": []
    },
    {
      "cell_type": "code",
      "metadata": {
        "colab_type": "code",
        "id": "I8ARiyMFsgbH",
        "outputId": "2aa7b387-5485-4aad-8227-f9d162e330aa",
        "colab": {
          "base_uri": "https://localhost:8080/",
          "height": 319
        }
      },
      "source": [
        "model.summary()"
      ],
      "execution_count": 0,
      "outputs": [
        {
          "output_type": "stream",
          "text": [
            "Model: \"sequential\"\n",
            "_________________________________________________________________\n",
            "Layer (type)                 Output Shape              Param #   \n",
            "=================================================================\n",
            "vgg19 (Model)                (None, 7, 7, 512)         20024384  \n",
            "_________________________________________________________________\n",
            "conv2d (Conv2D)              (None, 5, 5, 32)          147488    \n",
            "_________________________________________________________________\n",
            "dropout (Dropout)            (None, 5, 5, 32)          0         \n",
            "_________________________________________________________________\n",
            "global_average_pooling2d (Gl (None, 32)                0         \n",
            "_________________________________________________________________\n",
            "dense (Dense)                (None, 2)                 66        \n",
            "=================================================================\n",
            "Total params: 20,171,938\n",
            "Trainable params: 147,554\n",
            "Non-trainable params: 20,024,384\n",
            "_________________________________________________________________\n"
          ],
          "name": "stdout"
        }
      ]
    },
    {
      "cell_type": "code",
      "metadata": {
        "colab_type": "code",
        "id": "krvBumovycVA",
        "outputId": "16aa0ef5-8265-479c-f6e1-0baea7035978",
        "colab": {
          "base_uri": "https://localhost:8080/",
          "height": 34
        }
      },
      "source": [
        "print('Number of trainable variables = {}'.format(len(model.trainable_variables)))"
      ],
      "execution_count": 0,
      "outputs": [
        {
          "output_type": "stream",
          "text": [
            "Number of trainable variables = 4\n"
          ],
          "name": "stdout"
        }
      ]
    },
    {
      "cell_type": "code",
      "metadata": {
        "id": "opTlCaiL8Upr",
        "colab_type": "code",
        "colab": {}
      },
      "source": [
        "from tensorflow import keras\n",
        "\n",
        "callbacks = [\n",
        "    keras.callbacks.EarlyStopping(\n",
        "        # Stop training when `val_loss` is no longer improving\n",
        "        monitor='val_loss',\n",
        "        # \"no longer improving\" being defined as \"no better than 1e-2 less\"\n",
        "        min_delta=1e-3,\n",
        "        # \"no longer improving\" being further defined as \"for at least 2 epochs\"\n",
        "        patience=10,\n",
        "        verbose=1)\n",
        "]"
      ],
      "execution_count": 0,
      "outputs": []
    },
    {
      "cell_type": "markdown",
      "metadata": {
        "colab_type": "text",
        "id": "RxvgOYTDSWTx"
      },
      "source": [
        "### Train the model\n",
        "\n",
        "<!-- TODO(markdaoust): delete steps_per_epoch in TensorFlow r1.14/r2.0 -->"
      ]
    },
    {
      "cell_type": "code",
      "metadata": {
        "colab_type": "code",
        "id": "JsaRFlZ9B6WK",
        "outputId": "79e7083f-d74e-4172-a332-03b8297a127f",
        "colab": {
          "base_uri": "https://localhost:8080/",
          "height": 1000
        }
      },
      "source": [
        "epochs = 100\n",
        "\n",
        "history = model.fit(train_generator, \n",
        "                    epochs=epochs,\n",
        "                    callbacks = callbacks,\n",
        "                    validation_data=validation_generator)"
      ],
      "execution_count": 0,
      "outputs": [
        {
          "output_type": "stream",
          "text": [
            "Epoch 1/100\n",
            "64/64 [==============================] - 95s 1s/step - loss: 0.4317 - acc: 0.8607 - val_loss: 0.2697 - val_acc: 0.8931\n",
            "Epoch 2/100\n",
            "64/64 [==============================] - 83s 1s/step - loss: 0.1516 - acc: 0.9394 - val_loss: 0.2742 - val_acc: 0.8869\n",
            "Epoch 3/100\n",
            "64/64 [==============================] - 83s 1s/step - loss: 0.0963 - acc: 0.9634 - val_loss: 0.1647 - val_acc: 0.9355\n",
            "Epoch 4/100\n",
            "64/64 [==============================] - 83s 1s/step - loss: 0.0873 - acc: 0.9671 - val_loss: 0.1490 - val_acc: 0.9385\n",
            "Epoch 5/100\n",
            "64/64 [==============================] - 82s 1s/step - loss: 0.0767 - acc: 0.9768 - val_loss: 0.2800 - val_acc: 0.9017\n",
            "Epoch 6/100\n",
            "64/64 [==============================] - 82s 1s/step - loss: 0.0784 - acc: 0.9721 - val_loss: 0.1217 - val_acc: 0.9521\n",
            "Epoch 7/100\n",
            "64/64 [==============================] - 83s 1s/step - loss: 0.0660 - acc: 0.9758 - val_loss: 0.1350 - val_acc: 0.9478\n",
            "Epoch 8/100\n",
            "64/64 [==============================] - 82s 1s/step - loss: 0.0600 - acc: 0.9768 - val_loss: 0.1401 - val_acc: 0.9539\n",
            "Epoch 9/100\n",
            "64/64 [==============================] - 82s 1s/step - loss: 0.0439 - acc: 0.9855 - val_loss: 0.1295 - val_acc: 0.9650\n",
            "Epoch 10/100\n",
            "64/64 [==============================] - 82s 1s/step - loss: 0.0515 - acc: 0.9826 - val_loss: 0.1806 - val_acc: 0.9373\n",
            "Epoch 11/100\n",
            "64/64 [==============================] - 82s 1s/step - loss: 0.0483 - acc: 0.9826 - val_loss: 0.1128 - val_acc: 0.9582\n",
            "Epoch 12/100\n",
            "64/64 [==============================] - 82s 1s/step - loss: 0.0354 - acc: 0.9874 - val_loss: 0.2296 - val_acc: 0.9336\n",
            "Epoch 13/100\n",
            "64/64 [==============================] - 82s 1s/step - loss: 0.0491 - acc: 0.9821 - val_loss: 0.1837 - val_acc: 0.9410\n",
            "Epoch 14/100\n",
            "64/64 [==============================] - 82s 1s/step - loss: 0.0455 - acc: 0.9855 - val_loss: 0.1806 - val_acc: 0.9459\n",
            "Epoch 15/100\n",
            "64/64 [==============================] - 82s 1s/step - loss: 0.0314 - acc: 0.9884 - val_loss: 0.1419 - val_acc: 0.9508\n",
            "Epoch 16/100\n",
            "64/64 [==============================] - 82s 1s/step - loss: 0.0354 - acc: 0.9866 - val_loss: 0.1118 - val_acc: 0.9533\n",
            "Epoch 17/100\n",
            "64/64 [==============================] - 82s 1s/step - loss: 0.0355 - acc: 0.9884 - val_loss: 0.1424 - val_acc: 0.9478\n",
            "Epoch 18/100\n",
            "64/64 [==============================] - 82s 1s/step - loss: 0.0328 - acc: 0.9871 - val_loss: 0.1615 - val_acc: 0.9514\n",
            "Epoch 19/100\n",
            "64/64 [==============================] - 82s 1s/step - loss: 0.0317 - acc: 0.9895 - val_loss: 0.1445 - val_acc: 0.9551\n",
            "Epoch 20/100\n",
            "64/64 [==============================] - 82s 1s/step - loss: 0.0343 - acc: 0.9903 - val_loss: 0.0889 - val_acc: 0.9687\n",
            "Epoch 21/100\n",
            "64/64 [==============================] - 82s 1s/step - loss: 0.0290 - acc: 0.9897 - val_loss: 0.1163 - val_acc: 0.9631\n",
            "Epoch 22/100\n",
            "64/64 [==============================] - 82s 1s/step - loss: 0.0326 - acc: 0.9889 - val_loss: 0.1648 - val_acc: 0.9471\n",
            "Epoch 23/100\n",
            "64/64 [==============================] - 82s 1s/step - loss: 0.0290 - acc: 0.9897 - val_loss: 0.1258 - val_acc: 0.9570\n",
            "Epoch 24/100\n",
            "64/64 [==============================] - 82s 1s/step - loss: 0.0327 - acc: 0.9895 - val_loss: 0.2054 - val_acc: 0.9490\n",
            "Epoch 25/100\n",
            "64/64 [==============================] - 82s 1s/step - loss: 0.0220 - acc: 0.9921 - val_loss: 0.1976 - val_acc: 0.9484\n",
            "Epoch 26/100\n",
            "64/64 [==============================] - 82s 1s/step - loss: 0.0384 - acc: 0.9879 - val_loss: 0.1285 - val_acc: 0.9539\n",
            "Epoch 27/100\n",
            "64/64 [==============================] - 82s 1s/step - loss: 0.0207 - acc: 0.9939 - val_loss: 0.1141 - val_acc: 0.9693\n",
            "Epoch 28/100\n",
            "64/64 [==============================] - 82s 1s/step - loss: 0.0270 - acc: 0.9908 - val_loss: 0.3984 - val_acc: 0.8961\n",
            "Epoch 29/100\n",
            "64/64 [==============================] - 82s 1s/step - loss: 0.0288 - acc: 0.9895 - val_loss: 0.1166 - val_acc: 0.9687\n",
            "Epoch 30/100\n",
            "64/64 [==============================] - 83s 1s/step - loss: 0.0219 - acc: 0.9932 - val_loss: 0.0872 - val_acc: 0.9693\n",
            "Epoch 31/100\n",
            "64/64 [==============================] - 82s 1s/step - loss: 0.0178 - acc: 0.9934 - val_loss: 0.1269 - val_acc: 0.9607\n",
            "Epoch 32/100\n",
            "64/64 [==============================] - 82s 1s/step - loss: 0.0246 - acc: 0.9926 - val_loss: 0.2049 - val_acc: 0.9404\n",
            "Epoch 33/100\n",
            "64/64 [==============================] - 83s 1s/step - loss: 0.0270 - acc: 0.9897 - val_loss: 0.0735 - val_acc: 0.9754\n",
            "Epoch 34/100\n",
            "64/64 [==============================] - 83s 1s/step - loss: 0.0135 - acc: 0.9953 - val_loss: 0.1666 - val_acc: 0.9521\n",
            "Epoch 35/100\n",
            "64/64 [==============================] - 82s 1s/step - loss: 0.0189 - acc: 0.9926 - val_loss: 0.1179 - val_acc: 0.9588\n",
            "Epoch 36/100\n",
            "64/64 [==============================] - 82s 1s/step - loss: 0.0156 - acc: 0.9950 - val_loss: 0.1157 - val_acc: 0.9680\n",
            "Epoch 37/100\n",
            "64/64 [==============================] - 83s 1s/step - loss: 0.0229 - acc: 0.9924 - val_loss: 0.1438 - val_acc: 0.9594\n",
            "Epoch 38/100\n",
            "64/64 [==============================] - 82s 1s/step - loss: 0.0179 - acc: 0.9947 - val_loss: 0.0979 - val_acc: 0.9754\n",
            "Epoch 39/100\n",
            "64/64 [==============================] - 82s 1s/step - loss: 0.0230 - acc: 0.9916 - val_loss: 0.1237 - val_acc: 0.9650\n",
            "Epoch 40/100\n",
            "64/64 [==============================] - 83s 1s/step - loss: 0.0215 - acc: 0.9926 - val_loss: 0.2758 - val_acc: 0.9582\n",
            "Epoch 41/100\n",
            "64/64 [==============================] - 82s 1s/step - loss: 0.0168 - acc: 0.9934 - val_loss: 0.1930 - val_acc: 0.9576\n",
            "Epoch 42/100\n",
            "64/64 [==============================] - 82s 1s/step - loss: 0.0166 - acc: 0.9947 - val_loss: 0.1625 - val_acc: 0.9564\n",
            "Epoch 43/100\n",
            "64/64 [==============================] - 81s 1s/step - loss: 0.0241 - acc: 0.9910 - val_loss: 0.3314 - val_acc: 0.9158\n",
            "Epoch 00043: early stopping\n"
          ],
          "name": "stdout"
        }
      ]
    },
    {
      "cell_type": "markdown",
      "metadata": {
        "colab_type": "text",
        "id": "Hd94CKImf8vi"
      },
      "source": [
        "### Learning curves\n",
        "\n",
        "Let's take a look at the learning curves of the training and validation accuracy/loss when using the MobileNet V2 base model as a fixed feature extractor. "
      ]
    },
    {
      "cell_type": "code",
      "metadata": {
        "colab_type": "code",
        "id": "53OTCh3jnbwV",
        "outputId": "415ae583-a12e-41a6-aa50-0bcee8e5f25f",
        "colab": {
          "base_uri": "https://localhost:8080/",
          "height": 513
        }
      },
      "source": [
        "acc = history.history['acc']\n",
        "val_acc = history.history['val_acc']\n",
        "\n",
        "loss = history.history['loss']\n",
        "val_loss = history.history['val_loss']\n",
        "\n",
        "plt.figure(figsize=(8, 8))\n",
        "plt.subplot(2, 1, 1)\n",
        "plt.plot(acc, label='Training Accuracy')\n",
        "plt.plot(val_acc, label='Validation Accuracy')\n",
        "plt.legend(loc='lower right')\n",
        "plt.ylabel('Accuracy')\n",
        "plt.ylim([min(plt.ylim()),1])\n",
        "plt.title('Training and Validation Accuracy')\n",
        "\n",
        "plt.subplot(2, 1, 2)\n",
        "plt.plot(loss, label='Training Loss')\n",
        "plt.plot(val_loss, label='Validation Loss')\n",
        "plt.legend(loc='upper right')\n",
        "plt.ylabel('Cross Entropy')\n",
        "plt.ylim([0,1.0])\n",
        "plt.title('Training and Validation Loss')\n",
        "plt.xlabel('epoch')\n",
        "plt.show()"
      ],
      "execution_count": 0,
      "outputs": [
        {
          "output_type": "display_data",
          "data": {
            "image/png": "[encoded data removed]",
            "text/plain": [
              "<Figure size 576x576 with 2 Axes>"
            ]
          },
          "metadata": {
            "tags": []
          }
        }
      ]
    },
    {
      "cell_type": "markdown",
      "metadata": {
        "colab_type": "text",
        "id": "CqwV-CRdS6Nv"
      },
      "source": [
        "## Fine tuning\n",
        "In our feature extraction experiment, you were only training a few layers on top of an MobileNet V2 base model. The weights of the pre-trained network were **not** updated during training.\n",
        "\n",
        "One way to increase performance even further is to train (or \"fine-tune\") the weights of the top layers of the pre-trained model alongside the training of the classifier you added. The training process will force the weights to be tuned from generic features maps to features associated specifically to our dataset."
      ]
    },
    {
      "cell_type": "markdown",
      "metadata": {
        "colab_type": "text",
        "id": "CPXnzUK0QonF"
      },
      "source": [
        "### Un-freeze the top layers of the model\n"
      ]
    },
    {
      "cell_type": "markdown",
      "metadata": {
        "colab_type": "text",
        "id": "rfxv_ifotQak"
      },
      "source": [
        "All you need to do is unfreeze the `base_model` and set the bottom layers be un-trainable. Then, recompile the model (necessary for these changes to take effect), and resume training."
      ]
    },
    {
      "cell_type": "code",
      "metadata": {
        "colab_type": "code",
        "id": "4nzcagVitLQm",
        "colab": {}
      },
      "source": [
        "base_model.trainable = True"
      ],
      "execution_count": 0,
      "outputs": []
    },
    {
      "cell_type": "code",
      "metadata": {
        "colab_type": "code",
        "id": "-4HgVAacRs5v",
        "outputId": "d62d1fbb-850d-4aee-888c-7abcc4b0f551",
        "colab": {
          "base_uri": "https://localhost:8080/",
          "height": 34
        }
      },
      "source": [
        "# Let's take a look to see how many layers are in the base model\n",
        "print(\"Number of layers in the base model: \", len(base_model.layers))\n",
        "\n",
        "# Fine tune from this layer onwards\n",
        "fine_tune_at = 0\n",
        "\n",
        "# Freeze all the layers before the `fine_tune_at` layer\n",
        "for layer in base_model.layers[:fine_tune_at]:\n",
        "  layer.trainable =  False"
      ],
      "execution_count": 0,
      "outputs": [
        {
          "output_type": "stream",
          "text": [
            "Number of layers in the base model:  22\n"
          ],
          "name": "stdout"
        }
      ]
    },
    {
      "cell_type": "markdown",
      "metadata": {
        "colab_type": "text",
        "id": "4Uk1dgsxT0IS"
      },
      "source": [
        "### Compile the model\n",
        "\n",
        "Compile the model using a much lower training rate."
      ]
    },
    {
      "cell_type": "code",
      "metadata": {
        "colab_type": "code",
        "id": "NtUnaz0WUDva",
        "colab": {}
      },
      "source": [
        "model.compile(loss='categorical_crossentropy',\n",
        "              optimizer = tf.keras.optimizers.Adam(1e-5),\n",
        "              metrics=['accuracy'])"
      ],
      "execution_count": 0,
      "outputs": []
    },
    {
      "cell_type": "code",
      "metadata": {
        "colab_type": "code",
        "id": "WwBWy7J2kZvA",
        "outputId": "ecd43de8-fca5-4f00-8590-52f0d388ae7c",
        "colab": {
          "base_uri": "https://localhost:8080/",
          "height": 319
        }
      },
      "source": [
        "model.summary()"
      ],
      "execution_count": 0,
      "outputs": [
        {
          "output_type": "stream",
          "text": [
            "Model: \"sequential\"\n",
            "_________________________________________________________________\n",
            "Layer (type)                 Output Shape              Param #   \n",
            "=================================================================\n",
            "vgg19 (Model)                (None, 7, 7, 512)         20024384  \n",
            "_________________________________________________________________\n",
            "conv2d (Conv2D)              (None, 5, 5, 32)          147488    \n",
            "_________________________________________________________________\n",
            "dropout (Dropout)            (None, 5, 5, 32)          0         \n",
            "_________________________________________________________________\n",
            "global_average_pooling2d (Gl (None, 32)                0         \n",
            "_________________________________________________________________\n",
            "dense (Dense)                (None, 2)                 66        \n",
            "=================================================================\n",
            "Total params: 20,171,938\n",
            "Trainable params: 20,171,938\n",
            "Non-trainable params: 0\n",
            "_________________________________________________________________\n"
          ],
          "name": "stdout"
        }
      ]
    },
    {
      "cell_type": "code",
      "metadata": {
        "colab_type": "code",
        "id": "bNXelbMQtonr",
        "outputId": "3b21e05f-3903-40ef-cfff-7ed4084ad33d",
        "colab": {
          "base_uri": "https://localhost:8080/",
          "height": 34
        }
      },
      "source": [
        "print('Number of trainable variables = {}'.format(len(model.trainable_variables)))"
      ],
      "execution_count": 0,
      "outputs": [
        {
          "output_type": "stream",
          "text": [
            "Number of trainable variables = 36\n"
          ],
          "name": "stdout"
        }
      ]
    },
    {
      "cell_type": "markdown",
      "metadata": {
        "colab_type": "text",
        "id": "4G5O4jd6TuAG"
      },
      "source": [
        "### Continue Train the model"
      ]
    },
    {
      "cell_type": "code",
      "metadata": {
        "colab_type": "code",
        "id": "ECQLkAsFTlun",
        "outputId": "39927ac6-edaf-4d70-9cf6-2f43f22a66f2",
        "colab": {
          "base_uri": "https://localhost:8080/",
          "height": 739
        }
      },
      "source": [
        "history_fine = model.fit(train_generator, \n",
        "                         epochs=200,\n",
        "                         callbacks = callbacks,\n",
        "                         validation_data=validation_generator)"
      ],
      "execution_count": 0,
      "outputs": [
        {
          "output_type": "stream",
          "text": [
            "Epoch 1/200\n",
            "64/64 [==============================] - 162s 3s/step - loss: 0.0385 - acc: 0.9868 - val_loss: 0.2061 - val_acc: 0.9435\n",
            "Epoch 2/200\n",
            "64/64 [==============================] - 147s 2s/step - loss: 0.0198 - acc: 0.9939 - val_loss: 0.1572 - val_acc: 0.9662\n",
            "Epoch 3/200\n",
            "64/64 [==============================] - 148s 2s/step - loss: 0.0266 - acc: 0.9908 - val_loss: 0.0597 - val_acc: 0.9834\n",
            "Epoch 4/200\n",
            "64/64 [==============================] - 148s 2s/step - loss: 0.0097 - acc: 0.9971 - val_loss: 0.0606 - val_acc: 0.9859\n",
            "Epoch 5/200\n",
            "64/64 [==============================] - 148s 2s/step - loss: 0.0244 - acc: 0.9937 - val_loss: 0.0751 - val_acc: 0.9717\n",
            "Epoch 6/200\n",
            "64/64 [==============================] - 148s 2s/step - loss: 0.0074 - acc: 0.9976 - val_loss: 0.2103 - val_acc: 0.9484\n",
            "Epoch 7/200\n",
            "64/64 [==============================] - 148s 2s/step - loss: 0.0066 - acc: 0.9979 - val_loss: 0.0917 - val_acc: 0.9674\n",
            "Epoch 8/200\n",
            "64/64 [==============================] - 148s 2s/step - loss: 0.0162 - acc: 0.9945 - val_loss: 0.2989 - val_acc: 0.9275\n",
            "Epoch 9/200\n",
            "64/64 [==============================] - 147s 2s/step - loss: 0.0553 - acc: 0.9853 - val_loss: 0.1046 - val_acc: 0.9803\n",
            "Epoch 10/200\n",
            "64/64 [==============================] - 147s 2s/step - loss: 0.0099 - acc: 0.9974 - val_loss: 0.1155 - val_acc: 0.9644\n",
            "Epoch 11/200\n",
            "64/64 [==============================] - 147s 2s/step - loss: 0.0057 - acc: 0.9979 - val_loss: 0.0455 - val_acc: 0.9828\n",
            "Epoch 12/200\n",
            "64/64 [==============================] - 147s 2s/step - loss: 0.0026 - acc: 0.9989 - val_loss: 0.0643 - val_acc: 0.9822\n",
            "Epoch 13/200\n",
            "64/64 [==============================] - 147s 2s/step - loss: 0.0012 - acc: 1.0000 - val_loss: 0.0641 - val_acc: 0.9840\n",
            "Epoch 14/200\n",
            "64/64 [==============================] - 147s 2s/step - loss: 0.0021 - acc: 0.9995 - val_loss: 0.0758 - val_acc: 0.9822\n",
            "Epoch 15/200\n",
            "64/64 [==============================] - 147s 2s/step - loss: 5.3583e-04 - acc: 1.0000 - val_loss: 0.0736 - val_acc: 0.9840\n",
            "Epoch 16/200\n",
            "64/64 [==============================] - 147s 2s/step - loss: 3.5197e-04 - acc: 1.0000 - val_loss: 0.0949 - val_acc: 0.9828\n",
            "Epoch 17/200\n",
            "64/64 [==============================] - 148s 2s/step - loss: 2.2420e-04 - acc: 1.0000 - val_loss: 0.0739 - val_acc: 0.9865\n",
            "Epoch 18/200\n",
            "64/64 [==============================] - 147s 2s/step - loss: 3.6444e-04 - acc: 1.0000 - val_loss: 0.0496 - val_acc: 0.9889\n",
            "Epoch 19/200\n",
            "64/64 [==============================] - 147s 2s/step - loss: 3.5829e-04 - acc: 1.0000 - val_loss: 0.1516 - val_acc: 0.9797\n",
            "Epoch 20/200\n",
            "64/64 [==============================] - 147s 2s/step - loss: 0.0104 - acc: 0.9968 - val_loss: 0.0950 - val_acc: 0.9693\n",
            "Epoch 21/200\n",
            "64/64 [==============================] - 147s 2s/step - loss: 0.0077 - acc: 0.9971 - val_loss: 0.0495 - val_acc: 0.9846\n",
            "Epoch 00021: early stopping\n"
          ],
          "name": "stdout"
        }
      ]
    },
    {
      "cell_type": "code",
      "metadata": {
        "id": "RrKLLxXcy2fu",
        "colab_type": "code",
        "outputId": "efc98fbf-32a4-425f-90fa-9191f6e62334",
        "colab": {
          "base_uri": "https://localhost:8080/",
          "height": 513
        }
      },
      "source": [
        "acc = history_fine.history['acc']\n",
        "val_acc = history_fine.history['val_acc']\n",
        "\n",
        "loss = history_fine.history['loss']\n",
        "val_loss = history_fine.history['val_loss']\n",
        "\n",
        "plt.figure(figsize=(8, 8))\n",
        "plt.subplot(2, 1, 1)\n",
        "plt.plot(acc, label='Training Accuracy')\n",
        "plt.plot(val_acc, label='Validation Accuracy')\n",
        "plt.legend(loc='lower right')\n",
        "plt.ylabel('Accuracy')\n",
        "plt.ylim([-1,1])\n",
        "plt.title('Training and Validation Accuracy')\n",
        "\n",
        "plt.subplot(2, 1, 2)\n",
        "plt.plot(loss, label='Training Loss')\n",
        "plt.plot(val_loss, label='Validation Loss')\n",
        "plt.legend(loc='upper right')\n",
        "plt.ylabel('Cross Entropy')\n",
        "plt.ylim([-1,1.0])\n",
        "plt.title('Training and Validation Loss')\n",
        "plt.xlabel('epoch')\n",
        "plt.show()"
      ],
      "execution_count": 0,
      "outputs": [
        {
          "output_type": "display_data",
          "data": {
            "image/png": "[encoded data removed]",
            "text/plain": [
              "<Figure size 576x576 with 2 Axes>"
            ]
          },
          "metadata": {
            "tags": []
          }
        }
      ]
    },
    {
      "cell_type": "markdown",
      "metadata": {
        "colab_type": "text",
        "id": "kRDabW_u1wnv"
      },
      "source": [
        "## Convert to TFLite"
      ]
    },
    {
      "cell_type": "markdown",
      "metadata": {
        "colab_type": "text",
        "id": "hNvMl6CM6lG4"
      },
      "source": [
        "Saved the model using `tf.saved_model.save` and then convert the saved model to a tf lite compatible format."
      ]
    },
    {
      "cell_type": "code",
      "metadata": {
        "colab_type": "code",
        "id": "_LZiKVInWNGy",
        "colab": {}
      },
      "source": [
        "# saved_model_dir = 'save/fine_tuning'\n",
        "# tf.saved_model.save(model, saved_model_dir)\n",
        "\n",
        "# converter = tf.lite.TFLiteConverter.from_saved_model(saved_model_dir)\n",
        "# tflite_model = converter.convert()\n",
        "\n",
        "# with open('model.tflite', 'wb') as f:\n",
        "#   f.write(tflite_model)"
      ],
      "execution_count": 0,
      "outputs": []
    },
    {
      "cell_type": "markdown",
      "metadata": {
        "colab_type": "text",
        "id": "GE4w-9S410Dk"
      },
      "source": [
        "Download the converted model and labels"
      ]
    },
    {
      "cell_type": "code",
      "metadata": {
        "colab_type": "code",
        "id": "x47uW_lI1DoV",
        "colab": {}
      },
      "source": [
        "# from google.colab import files\n",
        "\n",
        "# files.download('model.tflite')\n",
        "# files.download('labels.txt')"
      ],
      "execution_count": 0,
      "outputs": []
    },
    {
      "cell_type": "markdown",
      "metadata": {
        "colab_type": "text",
        "id": "TfXEmsxQf6eP"
      },
      "source": [
        "Let's take a look at the learning curves of the training and validation accuracy/loss, when fine tuning the last few layers of the MobileNet V2 base model and training the classifier on top of it. The validation loss is much higher than the training loss, so you may get some overfitting.\n",
        "\n",
        "You may also get some overfitting as the new training set is relatively small and similar to the original MobileNet V2 datasets.\n"
      ]
    },
    {
      "cell_type": "code",
      "metadata": {
        "id": "EWPFzWbfxecK",
        "colab_type": "code",
        "colab": {}
      },
      "source": [
        "classes = {0 : \"Chlorophytum comosum\", 1 : 'ficus benjamina' , 2 : \"philodendron\"}\n",
        "# {'Chlorophytum comosum': 0, 'Ficus Benjamina': 1, 'bromeliads': 2}"
      ],
      "execution_count": 0,
      "outputs": []
    },
    {
      "cell_type": "code",
      "metadata": {
        "id": "bHEp-fjZs1ae",
        "colab_type": "code",
        "colab": {}
      },
      "source": [
        "# from keras.preprocessing import image\n",
        "# import numpy as np\n",
        "# from keras.applications.inception_v3 import preprocess_input, decode_predictions\n",
        "# from google.colab.patches import cv2_imshow\n",
        "# import matplotlib.pyplot as plt\n",
        "# import matplotlib.image as mpimg\n",
        "\n",
        "\n",
        "\n",
        "\n",
        "# f = plt.figure(figsize=(10,10))\n",
        "\n",
        "# # print (f)\n",
        "# img_path = '1.jpg'\n",
        "# img = image.load_img(img_path, target_size=(224, 224))\n",
        "\n",
        "# x = image.img_to_array(img)\n",
        "# img=mpimg.imread(img_path)\n",
        "# f.add_subplot(221)\n",
        "\n",
        "# plt.imshow(img)\n",
        "\n",
        "\n",
        "# x = np.expand_dims(x, axis=0)\n",
        "# x = preprocess_input(x)\n",
        "# preds = model.predict(x)\n",
        "# # decode the results into a list of tuples (class, description, probability)\n",
        "# # (one such list for each sample in the batch)\n",
        "# plt.title('Predicted:' + str( classes[np.argmax(preds)]      ) )\n",
        "\n",
        "\n",
        "# img_path = 't2.jpg'\n",
        "# img = image.load_img(img_path, target_size=(224, 224))\n",
        "\n",
        "# x = image.img_to_array(img)\n",
        "# img=mpimg.imread(img_path)\n",
        "# f.add_subplot(222)\n",
        "\n",
        "# plt.imshow(img)\n",
        "\n",
        "# x = np.expand_dims(x, axis=0)\n",
        "# x = preprocess_input(x)\n",
        "# preds = model.predict(x)\n",
        "# # decode the results into a list of tuples (class, description, probability)\n",
        "# # (one such list for each sample in the batch)\n",
        "# plt.title('Predicted:' + str( classes[np.argmax(preds)]      ) )\n",
        "\n",
        "\n",
        "# img_path = 't3.JPG'\n",
        "# img = image.load_img(img_path, target_size=(224, 224))\n",
        "\n",
        "# x = image.img_to_array(img)\n",
        "# img=mpimg.imread(img_path)\n",
        "# f.add_subplot(223)\n",
        "\n",
        "# plt.imshow(img)\n",
        "\n",
        "# x = np.expand_dims(x, axis=0)\n",
        "# x = preprocess_input(x)\n",
        "# preds = model.predict(x)\n",
        "# # decode the results into a list of tuples (class, description, probability)\n",
        "# # (one such list for each sample in the batch)\n",
        "# plt.title('Predicted:' + str( classes[np.argmax(preds)]      ) )\n",
        "\n",
        "# img_path = 't4.jpg'\n",
        "# img = image.load_img(img_path, target_size=(224, 224))\n",
        "\n",
        "# x = image.img_to_array(img)\n",
        "# img=mpimg.imread(img_path)\n",
        "# f.add_subplot(224)\n",
        "\n",
        "# plt.imshow(img)\n",
        "\n",
        "# x = np.expand_dims(x, axis=0)\n",
        "# x = preprocess_input(x)\n",
        "# preds = model.predict(x)\n",
        "# # decode the results into a list of tuples (class, description, probability)\n",
        "# # (one such list for each sample in the batch)\n",
        "\n",
        "\n",
        "\n",
        "\n",
        "\n",
        "\n",
        "\n",
        "# plt.title('Predicted:' + str( classes[np.argmax(preds)]      ) )\n",
        "\n",
        "\n",
        "\n",
        "\n",
        "\n",
        "# f = plt.figure(figsize=(5,5))\n",
        "\n",
        "\n",
        "# img_path = 'planti.jfif'\n",
        "# img = image.load_img(img_path, target_size=(224, 224))\n",
        "\n",
        "# x = image.img_to_array(img)\n",
        "# img=mpimg.imread(img_path)\n",
        "\n",
        "\n",
        "# plt.imshow(img)\n",
        "\n",
        "# x = np.expand_dims(x, axis=0)\n",
        "# x = preprocess_input(x)\n",
        "# preds = model.predict(x)\n",
        "# # decode the results into a list of tuples (class, description, probability)\n",
        "# # (one such list for each sample in the batch)\n",
        "# plt.title('Predicted:' + str( classes[np.argmax(preds)]      ) )\n"
      ],
      "execution_count": 0,
      "outputs": []
    },
    {
      "cell_type": "code",
      "metadata": {
        "id": "6iPYfaJ8V6rF",
        "colab_type": "code",
        "outputId": "932c577c-43ba-4069-ca57-c6307ccbd5c1",
        "colab": {
          "base_uri": "https://localhost:8080/",
          "height": 34
        }
      },
      "source": [
        "test_datagen = ImageDataGenerator()\n",
        "\n",
        "test_generator = test_datagen.flow_from_directory(\n",
        "    \"/tmp2/testt/\",\n",
        "    batch_size=1,\n",
        "    class_mode='categorical',\n",
        "    target_size=(224, 224))"
      ],
      "execution_count": 0,
      "outputs": [
        {
          "output_type": "stream",
          "text": [
            "Found 22 images belonging to 2 classes.\n"
          ],
          "name": "stdout"
        }
      ]
    },
    {
      "cell_type": "code",
      "metadata": {
        "id": "yEnOaZGpRXtG",
        "colab_type": "code",
        "colab": {}
      },
      "source": [
        "predict = model.evaluate_generator(test_generator,steps = 20)"
      ],
      "execution_count": 0,
      "outputs": []
    },
    {
      "cell_type": "code",
      "metadata": {
        "id": "Arodz6JYUxc8",
        "colab_type": "code",
        "outputId": "fada2ed1-d9e9-4b2c-c92b-3d759e40584f",
        "colab": {
          "base_uri": "https://localhost:8080/",
          "height": 34
        }
      },
      "source": [
        "predict"
      ],
      "execution_count": 0,
      "outputs": [
        {
          "output_type": "execute_result",
          "data": {
            "text/plain": [
              "[2.943786273068744, 0.8]"
            ]
          },
          "metadata": {
            "tags": []
          },
          "execution_count": 90
        }
      ]
    },
    {
      "cell_type": "code",
      "metadata": {
        "id": "x_oH3SwtXh0T",
        "colab_type": "code",
        "outputId": "53475341-0f3d-4d24-c4ac-205e97ec68bb",
        "colab": {
          "base_uri": "https://localhost:8080/",
          "height": 34
        }
      },
      "source": [
        "model.metrics_names"
      ],
      "execution_count": 0,
      "outputs": [
        {
          "output_type": "execute_result",
          "data": {
            "text/plain": [
              "['loss', 'acc']"
            ]
          },
          "metadata": {
            "tags": []
          },
          "execution_count": 42
        }
      ]
    },
    {
      "cell_type": "code",
      "metadata": {
        "id": "DQBziaYRY3WM",
        "colab_type": "code",
        "outputId": "c3c18d80-4e8e-433e-bfc3-ff418205b03f",
        "colab": {
          "base_uri": "https://localhost:8080/",
          "height": 34
        }
      },
      "source": [
        "from google.colab import drive\n",
        "drive.mount('/gdrive')\n",
        "\n",
        "model_save_name = 'model2.h5'\n",
        "path = F\"/gdrive/My Drive/rustimages/{model_save_name}\" \n",
        "model.save(path)\n"
      ],
      "execution_count": 0,
      "outputs": [
        {
          "output_type": "stream",
          "text": [
            "Drive already mounted at /gdrive; to attempt to forcibly remount, call drive.mount(\"/gdrive\", force_remount=True).\n"
          ],
          "name": "stdout"
        }
      ]
    },
    {
      "cell_type": "code",
      "metadata": {
        "id": "EIz_ASl-dyip",
        "colab_type": "code",
        "outputId": "c8f44347-a5c2-49a8-a7d6-81d0e8912f03",
        "colab": {
          "base_uri": "https://localhost:8080/",
          "height": 84
        }
      },
      "source": [
        "\n",
        "predictions = model.predict(test_generator)\n",
        "print(model.evaluate(test_generator))\n",
        "# Print our model's predictions.\n",
        "print(np.argmax(predictions, axis=1)) \n",
        "print (train_generator.class_indices)\n"
      ],
      "execution_count": 0,
      "outputs": [
        {
          "output_type": "stream",
          "text": [
            "37/37 [==============================] - 1s 33ms/step - loss: 0.0247 - acc: 1.0000\n",
            "[0.0246756860725201, 1.0]\n",
            "[0 0 1 0 0 0 0 0 0 0 0 0 0 0 0 0 0 0 0 0 0 0 0 0 0 0 0 0 0 0 0 0 0 0 0 0 0]\n",
            "{'notRust': 0, 'rust': 1}\n"
          ],
          "name": "stdout"
        }
      ]
    }
  ]
}